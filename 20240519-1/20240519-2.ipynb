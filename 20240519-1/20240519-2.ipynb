{
 "cells": [
  {
   "cell_type": "code",
   "execution_count": 8,
   "metadata": {},
   "outputs": [
    {
     "name": "stdout",
     "output_type": "stream",
     "text": [
      "輸入不在範圍內\n",
      "應用程式結束\n"
     ]
    }
   ],
   "source": [
    "#學生的總分為300分\n",
    "#有些學生可以加分5%\n",
    "#如果加分超過300分 則以300分為準\n",
    "#raise Exception()\n",
    "try:\n",
    "    scores = float(input(\"請輸入學生分數(最高300分)\"))\n",
    "    if scores > 300 or scores < 0:\n",
    "        raise Exception(\"輸入不在範圍內\")\n",
    "    is_add = input(\"學生是否符合加分條件?(y, n)\")\n",
    "    if is_add == \"y\":\n",
    "        scores = 300 if scores * 1.05 >= 300 else scores * 1.05\n",
    "\n",
    "    print(f\"學生的分數是 {round(scores, 0)}\")\n",
    "except ValueError: #優雅的失敗(????????????????????????????\n",
    "    print(\"格式錯誤\")\n",
    "except Exception as error:\n",
    "    print(error)\n",
    "print(\"應用程式結束\")"
   ]
  },
  {
   "cell_type": "code",
   "execution_count": 3,
   "metadata": {},
   "outputs": [
    {
     "name": "stdout",
     "output_type": "stream",
     "text": [
      "請輸入整數: Number must be at minimum 0.\n",
      "請輸入整數: Number must be at maximum 300.\n",
      "請輸入整數: 'a' is not an integer.\n",
      "請輸入整數: Number must be at maximum 300.\n",
      "請輸入整數: "
     ]
    },
    {
     "data": {
      "text/plain": [
       "int"
      ]
     },
     "execution_count": 3,
     "metadata": {},
     "output_type": "execute_result"
    }
   ],
   "source": [
    "import pyinputplus as pypi\n",
    "\n",
    "value = pypi.inputInt(\"請輸入整數: \", min=0, max=300)\n",
    "type(value)"
   ]
  },
  {
   "cell_type": "code",
   "execution_count": 6,
   "metadata": {},
   "outputs": [
    {
     "name": "stdout",
     "output_type": "stream",
     "text": [
      "請輸入學生分數(最高300分): 60\n",
      "學生的分數是 63.0\n",
      "應用程式結束\n"
     ]
    }
   ],
   "source": [
    "#學生的總分為300分\n",
    "#有些學生可以加分5%\n",
    "#如果加分超過300分 則以300分為準\n",
    "#raise Exception()\n",
    "\n",
    "scores = pypi.inputInt(\"請輸入學生分數(最高300分): \", min=0, max=300)\n",
    "print(scores)\n",
    "is_add = input(\"學生是否符合加分條件?(y, n)\")\n",
    "if is_add == \"y\":\n",
    "    scores = 300 if scores * 1.05 >= 300 else scores * 1.05\n",
    "\n",
    "print(f\"學生的分數是 {round(scores, 0)}\")\n",
    "print(\"應用程式結束\")"
   ]
  }
 ],
 "metadata": {
  "kernelspec": {
   "display_name": "Python 3",
   "language": "python",
   "name": "python3"
  },
  "language_info": {
   "codemirror_mode": {
    "name": "ipython",
    "version": 3
   },
   "file_extension": ".py",
   "mimetype": "text/x-python",
   "name": "python",
   "nbconvert_exporter": "python",
   "pygments_lexer": "ipython3",
   "version": "3.10.14"
  }
 },
 "nbformat": 4,
 "nbformat_minor": 2
}
