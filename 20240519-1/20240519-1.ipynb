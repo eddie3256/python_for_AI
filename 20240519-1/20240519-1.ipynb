{
 "cells": [
  {
   "cell_type": "code",
   "execution_count": 1,
   "metadata": {},
   "outputs": [
    {
     "name": "stdout",
     "output_type": "stream",
     "text": [
      "123, 你的身高是 168.0cm, 體重是 54.5kg, BMI是 19.30981\n"
     ]
    }
   ],
   "source": [
    "name = input(\"請輸入你的姓名\")\n",
    "height = float(input(\"請輸入身高(cm): \"))\n",
    "weight = float(input(\"請輸入體重(kg): \"))\n",
    "\n",
    "BMI = weight / (height / 100) ** 2\n",
    "\n",
    "print(f\"{name}, 你的身高是 {height}cm, 體重是 {weight}kg, BMI是 {round(BMI, 5)}\")"
   ]
  },
  {
   "cell_type": "code",
   "execution_count": 6,
   "metadata": {},
   "outputs": [
    {
     "name": "stdout",
     "output_type": "stream",
     "text": [
      "學生的分數是 315\n"
     ]
    }
   ],
   "source": [
    "#學生的總分為300分\n",
    "#有些學生可以加分5%\n",
    "\n",
    "scores = float(input(\"請輸入學生分數(最高300分)\"))\n",
    "is_add = input(\"學生是否符合加分條件?(y, n)\")\n",
    "if is_add == \"y\":\n",
    "    scores *= 1.05\n",
    "\n",
    "print(f\"學生的分數是 {round(scores, 0)}\")"
   ]
  }
 ],
 "metadata": {
  "kernelspec": {
   "display_name": "Python 3",
   "language": "python",
   "name": "python3"
  },
  "language_info": {
   "codemirror_mode": {
    "name": "ipython",
    "version": 3
   },
   "file_extension": ".py",
   "mimetype": "text/x-python",
   "name": "python",
   "nbconvert_exporter": "python",
   "pygments_lexer": "ipython3",
   "version": "3.10.14"
  }
 },
 "nbformat": 4,
 "nbformat_minor": 2
}
