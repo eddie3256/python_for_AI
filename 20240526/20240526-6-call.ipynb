{
 "cells": [
  {
   "cell_type": "code",
   "execution_count": 1,
   "metadata": {},
   "outputs": [
    {
     "name": "stdout",
     "output_type": "stream",
     "text": [
      "酒類: 白酒\n",
      "前菜: 牛排\n",
      "甜點: 蛋糕\n",
      "========================\n",
      "酒類: 紅酒\n",
      "前菜: 雞排\n",
      "甜點: 冰淇淋\n"
     ]
    }
   ],
   "source": [
    "def menu(wine:str, entree:str, dessert:str)->None:\n",
    "    print(f\"酒類: {wine}\")\n",
    "    print(f\"前菜: {entree}\")\n",
    "    print(f\"甜點: {dessert}\")\n",
    "\n",
    "#引數值的呼叫\n",
    "#依照參數的順序\n",
    "\n",
    "menu(\"白酒\", \"牛排\", \"蛋糕\")\n",
    "print(\"========================\")\n",
    "menu(\"紅酒\", \"雞排\", \"冰淇淋\")"
   ]
  },
  {
   "cell_type": "code",
   "execution_count": 2,
   "metadata": {},
   "outputs": [
    {
     "name": "stdout",
     "output_type": "stream",
     "text": [
      "酒類: 白酒\n",
      "前菜: 牛排\n",
      "甜點: 蛋糕\n",
      "========================\n",
      "酒類: 白酒\n",
      "前菜: 牛排\n",
      "甜點: 蛋糕\n"
     ]
    }
   ],
   "source": [
    "def menu(wine:str, entree:str, dessert:str)->None:\n",
    "    print(f\"酒類: {wine}\")\n",
    "    print(f\"前菜: {entree}\")\n",
    "    print(f\"甜點: {dessert}\")\n",
    "\n",
    "#引數名稱的呼叫\n",
    "#可不依照參數的順序\n",
    "\n",
    "menu(wine=\"白酒\", entree=\"牛排\", dessert=\"蛋糕\")\n",
    "print(\"========================\")\n",
    "menu(entree=\"牛排\", dessert=\"蛋糕\", wine=\"白酒\")"
   ]
  },
  {
   "cell_type": "code",
   "execution_count": 2,
   "metadata": {},
   "outputs": [
    {
     "name": "stdout",
     "output_type": "stream",
     "text": [
      "酒類: 白酒\n",
      "前菜: 牛排\n",
      "甜點: 蛋糕\n",
      "========================\n",
      "酒類: 白酒\n",
      "前菜: 牛排\n",
      "甜點: 蛋糕\n"
     ]
    }
   ],
   "source": [
    "def menu(wine:str, entree:str, dessert:str)->None:\n",
    "    print(f\"酒類: {wine}\")\n",
    "    print(f\"前菜: {entree}\")\n",
    "    print(f\"甜點: {dessert}\")\n",
    "\n",
    "#混和呼叫\n",
    "#前面用引數值呼叫(要排順序)\n",
    "#後面用引數名稱呼叫(不用排順序)\n",
    "#引數名稱後不能有引數值\n",
    "\n",
    "menu(\"白酒\", entree=\"牛排\", dessert=\"蛋糕\")\n",
    "print(\"========================\")\n",
    "menu(\"白酒\", dessert=\"蛋糕\", entree=\"牛排\")"
   ]
  },
  {
   "cell_type": "code",
   "execution_count": 4,
   "metadata": {},
   "outputs": [
    {
     "name": "stdout",
     "output_type": "stream",
     "text": [
      "酒類: 白酒\n",
      "前菜: 牛排\n",
      "甜點: 奶昔\n",
      "========================\n",
      "酒類: 白酒\n",
      "前菜: 牛排\n",
      "甜點: 蛋糕\n"
     ]
    }
   ],
   "source": [
    "#自訂的參數可以有預設值\n",
    "#有預設值的參數必須放最後\n",
    "\n",
    "def menu(wine:str, entree:str, dessert:str=\"奶昔\")->None:\n",
    "    print(f\"酒類: {wine}\")\n",
    "    print(f\"前菜: {entree}\")\n",
    "    print(f\"甜點: {dessert}\")\n",
    "\n",
    "#有預設值的參數可不呼叫\n",
    "\n",
    "menu(\"白酒\", \"牛排\")\n",
    "print(\"========================\")\n",
    "menu(\"白酒\", \"牛排\", \"蛋糕\")"
   ]
  },
  {
   "cell_type": "code",
   "execution_count": 5,
   "metadata": {},
   "outputs": [
    {
     "name": "stdout",
     "output_type": "stream",
     "text": [
      "args是tuple:(1, 2, 3, 'a', 'b', 'c', True)\n"
     ]
    }
   ],
   "source": [
    "def print_args(*args:any)->None:\n",
    "    print(f\"args是tuple:{args}\")\n",
    "\n",
    "#如果參數附帶*符號, 要用引數值呼叫, 沒有限定數量\n",
    "\n",
    "print_args(1, 2, 3, \"a\", \"b\", \"c\", True)"
   ]
  },
  {
   "cell_type": "code",
   "execution_count": 8,
   "metadata": {},
   "outputs": [
    {
     "name": "stdout",
     "output_type": "stream",
     "text": [
      "kwarg是dict:{'one': 1, 'two': 2, 'three': 3}\n",
      "kwarg是dict:{'one': 1, 'two': 2, 'three': 3, 'four': 4, 'five': 5}\n",
      "kwarg是dict:{}\n"
     ]
    }
   ],
   "source": [
    "def print_kwargs(**kwarg):\n",
    "    print(f\"kwarg是dict:{kwarg}\")\n",
    "\n",
    "#如果參數附帶**符號, 要用引數名稱呼叫, 沒有限定數量\n",
    "\n",
    "print_kwargs(one=1, two=2, three=3)\n",
    "print_kwargs(one=1, two=2, three=3, four=4, five=5)\n",
    "print_kwargs()"
   ]
  },
  {
   "cell_type": "code",
   "execution_count": null,
   "metadata": {},
   "outputs": [],
   "source": []
  }
 ],
 "metadata": {
  "kernelspec": {
   "display_name": "Python 3",
   "language": "python",
   "name": "python3"
  },
  "language_info": {
   "codemirror_mode": {
    "name": "ipython",
    "version": 3
   },
   "file_extension": ".py",
   "mimetype": "text/x-python",
   "name": "python",
   "nbconvert_exporter": "python",
   "pygments_lexer": "ipython3",
   "version": "3.10.14"
  }
 },
 "nbformat": 4,
 "nbformat_minor": 2
}
