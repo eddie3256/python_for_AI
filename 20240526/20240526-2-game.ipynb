{
 "cells": [
  {
   "cell_type": "code",
   "execution_count": 5,
   "metadata": {},
   "outputs": [
    {
     "name": "stdout",
     "output_type": "stream",
     "text": [
      "===========猜數字遊戲===========\n",
      "\n",
      "猜數字(範圍1~10): 1\n",
      "猜錯了~\n",
      "你已經猜了 1 次\n",
      "猜數字(範圍1~10): 2\n",
      "猜錯了~\n",
      "你已經猜了 2 次\n",
      "猜數字(範圍1~10): 3\n",
      "猜錯了~\n",
      "你已經猜了 3 次\n",
      "猜數字(範圍1~10): 4\n",
      "猜錯了~\n",
      "你已經猜了 4 次\n",
      "猜數字(範圍1~10): 5\n",
      "猜錯了~\n",
      "你已經猜了 5 次\n",
      "猜數字(範圍1~10): 6\n",
      "答對了~答案是6\n",
      "你共猜了 6 次\n",
      "遊戲結束\n"
     ]
    }
   ],
   "source": [
    "from random import *\n",
    "from pyinputplus import *\n",
    "\n",
    "min:int = 1\n",
    "max:int = 10\n",
    "target:int = randint(min, max) #x:int  type.hint(不強制轉型)\n",
    "count:int = 0\n",
    "\n",
    "print(\"===========猜數字遊戲===========\\n\")\n",
    "while True:\n",
    "    count += 1\n",
    "    keyin:int = inputInt(f\"猜數字(範圍{min}~{max}): \", min=min, max=max)\n",
    "    print(keyin)\n",
    "    if keyin == target:\n",
    "        print(f\"答對了~答案是{keyin}\")\n",
    "        print(f\"你共猜了 {count} 次\")\n",
    "        break\n",
    "    else:\n",
    "        print(\"猜錯了~\")\n",
    "        print(f\"你已經猜了 {count} 次\")\n",
    "\n",
    "print(\"遊戲結束\")"
   ]
  },
  {
   "cell_type": "code",
   "execution_count": 8,
   "metadata": {},
   "outputs": [
    {
     "name": "stdout",
     "output_type": "stream",
     "text": [
      "===========猜數字遊戲===========\n",
      "\n",
      "猜數字(範圍1~100): 1\n",
      "再大一點~\n",
      "你已經猜了 1 次\n",
      "猜數字(範圍2~100): 50\n",
      "再大一點~\n",
      "你已經猜了 2 次\n",
      "猜數字(範圍51~100): 70\n",
      "再小一點~\n",
      "你已經猜了 3 次\n",
      "猜數字(範圍51~69): Number must be at maximum 69.\n",
      "猜數字(範圍51~69): 60\n",
      "再大一點~\n",
      "你已經猜了 4 次\n",
      "猜數字(範圍61~69): Number must be at maximum 69.\n",
      "猜數字(範圍61~69): 65\n",
      "再大一點~\n",
      "你已經猜了 5 次\n",
      "猜數字(範圍66~69): 67\n",
      "再大一點~\n",
      "你已經猜了 6 次\n",
      "猜數字(範圍68~69): 68\n",
      "再大一點~\n",
      "你已經猜了 7 次\n",
      "猜數字(範圍69~69): 69\n",
      "答對了~答案是69\n",
      "你共猜了 8 次\n",
      "遊戲結束\n"
     ]
    }
   ],
   "source": [
    "from random import *\n",
    "from pyinputplus import *\n",
    "\n",
    "min:int = 1\n",
    "max:int = 100\n",
    "target:int = randint(min, max) #x:int  type.hint(不強制轉型)\n",
    "count:int = 0\n",
    "\n",
    "print(\"===========猜數字遊戲===========\\n\")\n",
    "while True:\n",
    "    count += 1\n",
    "    keyin:int = inputInt(f\"猜數字(範圍{min}~{max}): \", min=min, max=max)\n",
    "    print(keyin)\n",
    "    if keyin == target:\n",
    "        print(f\"答對了~答案是{keyin}\")\n",
    "        print(f\"你共猜了 {count} 次\")\n",
    "        break\n",
    "    elif keyin > target:\n",
    "        print(\"再小一點~\")\n",
    "        max = keyin - 1\n",
    "        print(f\"你已經猜了 {count} 次\")\n",
    "    else:\n",
    "        print(\"再大一點~\")\n",
    "        min = keyin + 1\n",
    "        print(f\"你已經猜了 {count} 次\")\n",
    "\n",
    "print(\"遊戲結束\")"
   ]
  }
 ],
 "metadata": {
  "kernelspec": {
   "display_name": "Python 3",
   "language": "python",
   "name": "python3"
  },
  "language_info": {
   "codemirror_mode": {
    "name": "ipython",
    "version": 3
   },
   "file_extension": ".py",
   "mimetype": "text/x-python",
   "name": "python",
   "nbconvert_exporter": "python",
   "pygments_lexer": "ipython3",
   "version": "3.10.14"
  }
 },
 "nbformat": 4,
 "nbformat_minor": 2
}
