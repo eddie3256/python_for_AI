{
 "cells": [
  {
   "cell_type": "code",
   "execution_count": 2,
   "metadata": {},
   "outputs": [
    {
     "name": "stdout",
     "output_type": "stream",
     "text": [
      "Hello!\n"
     ]
    }
   ],
   "source": [
    "def sayHello()->None:\n",
    "    print(\"Hello!\")\n",
    "\n",
    "sayHello()"
   ]
  },
  {
   "cell_type": "code",
   "execution_count": 4,
   "metadata": {},
   "outputs": [
    {
     "name": "stdout",
     "output_type": "stream",
     "text": [
      "0.37601401240711185\n"
     ]
    }
   ],
   "source": [
    "from random import *\n",
    "def getRandomNum()->float:\n",
    "    return random()\n",
    "\n",
    "n:float = getRandomNum()\n",
    "print(n)"
   ]
  },
  {
   "cell_type": "code",
   "execution_count": 7,
   "metadata": {},
   "outputs": [
    {
     "name": "stdout",
     "output_type": "stream",
     "text": [
      "Hello! 摳呆\n",
      "Hello! 摳呆\n"
     ]
    }
   ],
   "source": [
    "#1個參數\n",
    "def sayHello(n:str)->None:\n",
    "    name:str = n\n",
    "    print(f\"Hello! {name}\")\n",
    "\n",
    "sayHello(\"摳呆\") #引數值呼叫\n",
    "sayHello(n=\"摳呆\") #引數名稱呼叫"
   ]
  },
  {
   "cell_type": "code",
   "execution_count": 10,
   "metadata": {},
   "outputs": [
    {
     "name": "stdout",
     "output_type": "stream",
     "text": [
      "50\n",
      "50\n"
     ]
    }
   ],
   "source": [
    "#2個參數\n",
    "#傳出值int\n",
    "\n",
    "def multiply(a:int, b:int):\n",
    "    return a * b\n",
    "\n",
    "print(multiply(5, 10))\n",
    "print(multiply(a=5, b=10))"
   ]
  },
  {
   "cell_type": "code",
   "execution_count": 11,
   "metadata": {},
   "outputs": [
    {
     "name": "stdout",
     "output_type": "stream",
     "text": [
      "請輸入整數求因數: 5\n",
      "5 的因數有: [1, 5]\n"
     ]
    }
   ],
   "source": [
    "import pyinputplus as pypi\n",
    "from math import *\n",
    "\n",
    "def get_factor(n:int)->None:\n",
    "    num = []\n",
    "    for i in range(1, n+1):\n",
    "        if n % i == 0:\n",
    "            num.append(i)\n",
    "    print(f\"{n} 的因數有: {num}\")\n",
    "n = pypi.inputInt(\"請輸入整數求因數: \", min=1)\n",
    "print(n)\n",
    "get_factor(n)\n"
   ]
  }
 ],
 "metadata": {
  "kernelspec": {
   "display_name": "Python 3",
   "language": "python",
   "name": "python3"
  },
  "language_info": {
   "codemirror_mode": {
    "name": "ipython",
    "version": 3
   },
   "file_extension": ".py",
   "mimetype": "text/x-python",
   "name": "python",
   "nbconvert_exporter": "python",
   "pygments_lexer": "ipython3",
   "version": "3.10.14"
  }
 },
 "nbformat": 4,
 "nbformat_minor": 2
}
