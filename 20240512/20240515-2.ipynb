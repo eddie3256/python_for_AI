{
 "cells": [
  {
   "cell_type": "code",
   "execution_count": 4,
   "metadata": {},
   "outputs": [
    {
     "name": "stdout",
     "output_type": "stream",
     "text": [
      "半徑50.21的圓面積為7920.0936\n"
     ]
    }
   ],
   "source": [
    "from math import *\n",
    "\n",
    "r = float(input(\"請輸入半徑: \"))\n",
    "area = pi * r ** 2\n",
    "print(f\"半徑{r}的圓面積為{round(area, 4)}\")"
   ]
  },
  {
   "cell_type": "code",
   "execution_count": 5,
   "metadata": {},
   "outputs": [
    {
     "name": "stdout",
     "output_type": "stream",
     "text": [
      "對邊為25, 斜邊為50的直角三角形, 角度是30.0\n"
     ]
    }
   ],
   "source": [
    "from math import *\n",
    "\n",
    "side = 25 #對邊\n",
    "another_side = 50 #斜邊\n",
    "\n",
    "radian = asin(side / another_side)\n",
    "#弧度要轉角度\n",
    "degree = degrees(radian)\n",
    "print(f\"對邊為{side}, 斜邊為{another_side}的直角三角形, 角度是{round(degree, 2)}\")"
   ]
  }
 ],
 "metadata": {
  "kernelspec": {
   "display_name": "Python 3",
   "language": "python",
   "name": "python3"
  },
  "language_info": {
   "codemirror_mode": {
    "name": "ipython",
    "version": 3
   },
   "file_extension": ".py",
   "mimetype": "text/x-python",
   "name": "python",
   "nbconvert_exporter": "python",
   "pygments_lexer": "ipython3",
   "version": "3.10.13"
  }
 },
 "nbformat": 4,
 "nbformat_minor": 2
}
