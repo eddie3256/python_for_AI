{
 "cells": [
  {
   "cell_type": "code",
   "execution_count": 8,
   "metadata": {},
   "outputs": [
    {
     "name": "stdout",
     "output_type": "stream",
     "text": [
      "輸入不在範圍內\n",
      "應用程式結束\n"
     ]
    }
   ],
   "source": [
    "#學生的總分為300分\n",
    "#有些學生可以加分5%\n",
    "#如果加分超過300分 則以300分為準\n",
    "#raise Exception()\n",
    "try:\n",
    "    scores = float(input(\"請輸入學生分數(最高300分)\"))\n",
    "    if scores > 300 or scores < 0:\n",
    "        raise Exception(\"輸入不在範圍內\")\n",
    "    is_add = input(\"學生是否符合加分條件?(y, n)\")\n",
    "    if is_add == \"y\":\n",
    "        scores = 300 if scores * 1.05 >= 300 else scores * 1.05\n",
    "\n",
    "    print(f\"學生的分數是 {round(scores, 0)}\")\n",
    "except ValueError: #優雅的失敗(????????????????????????????\n",
    "    print(\"格式錯誤\")\n",
    "except Exception as error:\n",
    "    print(error)\n",
    "print(\"應用程式結束\")"
   ]
  },
  {
   "cell_type": "code",
   "execution_count": 3,
   "metadata": {},
   "outputs": [
    {
     "name": "stdout",
     "output_type": "stream",
     "text": [
      "請輸入整數: Number must be at minimum 0.\n",
      "請輸入整數: Number must be at maximum 300.\n",
      "請輸入整數: 'a' is not an integer.\n",
      "請輸入整數: Number must be at maximum 300.\n",
      "請輸入整數: "
     ]
    },
    {
     "data": {
      "text/plain": [
       "int"
      ]
     },
     "execution_count": 3,
     "metadata": {},
     "output_type": "execute_result"
    }
   ],
   "source": [
    "import pyinputplus as pypi\n",
    "\n",
    "value = pypi.inputInt(\"請輸入整數: \", min=0, max=300)\n",
    "type(value)"
   ]
  },
  {
   "cell_type": "code",
   "execution_count": 6,
   "metadata": {},
   "outputs": [
    {
     "name": "stdout",
     "output_type": "stream",
     "text": [
      "請輸入學生分數(最高300分): 60\n",
      "學生的分數是 63.0\n",
      "應用程式結束\n"
     ]
    }
   ],
   "source": [
    "#學生的總分為300分\n",
    "#有些學生可以加分5%\n",
    "#如果加分超過300分 則以300分為準\n",
    "#raise Exception()\n",
    "\n",
    "scores = pypi.inputInt(\"請輸入學生分數(最高300分): \", min=0, max=300)\n",
    "print(scores)\n",
    "is_add = input(\"學生是否符合加分條件?(y, n)\")\n",
    "if is_add == \"y\":\n",
    "    scores = 300 if scores * 1.05 >= 300 else scores * 1.05\n",
    "\n",
    "print(f\"學生的分數是 {round(scores, 0)}\")\n",
    "print(\"應用程式結束\")"
   ]
  },
  {
   "cell_type": "code",
   "execution_count": null,
   "metadata": {},
   "outputs": [],
   "source": [
    "'''\n",
    "90~100 優\n",
    "80~89.9 甲\n",
    "70~79.9 乙\n",
    "60~69.9 丙\n",
    "0~59.9 丁\n",
    "'''\n",
    "\n",
    "score = pypi.inputInt(\"請輸入成績: \", min=0, max=100)\n",
    "\n",
    "if score >= 90:\n",
    "    print(\"優\")\n",
    "elif score >= 80:\n",
    "    print(\"甲\")\n",
    "elif score >= 70:\n",
    "    print(\"乙\")\n",
    "elif score >= 60:\n",
    "    print(\"丙\")\n",
    "else:\n",
    "    print(\"丁\")"
   ]
  },
  {
   "cell_type": "code",
   "execution_count": 10,
   "metadata": {},
   "outputs": [
    {
     "name": "stdout",
     "output_type": "stream",
     "text": [
      "請輸入國文分數: 0\n",
      "請輸入數學分數: 0\n",
      "沒東西\n"
     ]
    }
   ],
   "source": [
    "chinese = pypi.inputInt(\"請輸入國文分數: \", min=0, max=100)\n",
    "print(chinese)\n",
    "math = pypi.inputInt(\"請輸入數學分數: \", min=0, max=100)\n",
    "print(math)\n",
    "\n",
    "#2科都100分獎金1000\n",
    "#1科100分獎金500\n",
    "\n",
    "if chinese == 100 and math == 100:\n",
    "    print(\"獎金1000\")\n",
    "elif chinese == 100 or math == 100:\n",
    "    print(\"獎金500\")\n",
    "else:\n",
    "    print('沒東西')"
   ]
  }
 ],
 "metadata": {
  "kernelspec": {
   "display_name": "Python 3",
   "language": "python",
   "name": "python3"
  },
  "language_info": {
   "codemirror_mode": {
    "name": "ipython",
    "version": 3
   },
   "file_extension": ".py",
   "mimetype": "text/x-python",
   "name": "python",
   "nbconvert_exporter": "python",
   "pygments_lexer": "ipython3",
   "version": "3.10.14"
  }
 },
 "nbformat": 4,
 "nbformat_minor": 2
}
