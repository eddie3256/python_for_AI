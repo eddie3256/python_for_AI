{
 "cells": [
  {
   "cell_type": "code",
   "execution_count": 8,
   "metadata": {},
   "outputs": [
    {
     "name": "stdout",
     "output_type": "stream",
     "text": [
      "False\n",
      "True\n"
     ]
    }
   ],
   "source": [
    "file = open(\"names.txt\", encoding=\"utf-8\")\n",
    "print(file.closed)\n",
    "file.close()\n",
    "print(file.closed)\n"
   ]
  },
  {
   "cell_type": "code",
   "execution_count": null,
   "metadata": {},
   "outputs": [],
   "source": [
    "with open(\"names.txt\", encoding=\"utf-8\") as file:\n",
    "    content:str = file.read()\n",
    "    print(file.closed)\n",
    "\n",
    "print(file.closed)\n",
    "\n",
    "names:list[str] = content.split()\n",
    "num:int = len(names)\n",
    "print(num)\n",
    "print(names[0:5])\n",
    "print(names[-5:])\n",
    "for name in names:\n",
    "    print(name, end=\" \")\n"
   ]
  },
  {
   "cell_type": "code",
   "execution_count": 46,
   "metadata": {},
   "outputs": [
    {
     "data": {
      "text/plain": [
       "['方雅慧', '張慧君', '劉佳佩', '賴苑禾', '黎惠雯']"
      ]
     },
     "execution_count": 46,
     "metadata": {},
     "output_type": "execute_result"
    }
   ],
   "source": [
    "from random import choices\n",
    "\n",
    "\n",
    "choices(names, k=5)"
   ]
  },
  {
   "cell_type": "code",
   "execution_count": 62,
   "metadata": {},
   "outputs": [
    {
     "name": "stdout",
     "output_type": "stream",
     "text": [
      "請選擇需要的人名數量:\n",
      "1. 1個\n",
      "2. 2個\n",
      "3. 3個\n",
      "4. 4個\n",
      "5. 5個\n"
     ]
    },
    {
     "data": {
      "text/plain": [
       "3"
      ]
     },
     "execution_count": 62,
     "metadata": {},
     "output_type": "execute_result"
    }
   ],
   "source": [
    "import pyinputplus as pyip\n",
    "\n",
    "num_str = pyip.inputMenu(['1個', \"2個\", \"3個\", \"4個\", \"5個\"],\n",
    "                   prompt=\"請選擇需要的人名數量:\\n\",\n",
    "                   numbered=True)\n",
    "num:int = int(num_str[0])\n",
    "num"
   ]
  },
  {
   "cell_type": "code",
   "execution_count": 63,
   "metadata": {},
   "outputs": [
    {
     "data": {
      "text/plain": [
       "['龔姵君', '陳怡珊', '黃靜怡']"
      ]
     },
     "execution_count": 63,
     "metadata": {},
     "output_type": "execute_result"
    }
   ],
   "source": [
    "selected_name = choices(names, k=num)\n",
    "print(selected_name)"
   ]
  }
 ],
 "metadata": {
  "kernelspec": {
   "display_name": "Python 3",
   "language": "python",
   "name": "python3"
  },
  "language_info": {
   "codemirror_mode": {
    "name": "ipython",
    "version": 3
   },
   "file_extension": ".py",
   "mimetype": "text/x-python",
   "name": "python",
   "nbconvert_exporter": "python",
   "pygments_lexer": "ipython3",
   "version": "3.10.14"
  }
 },
 "nbformat": 4,
 "nbformat_minor": 2
}
