{
 "cells": [
  {
   "cell_type": "code",
   "execution_count": 4,
   "metadata": {},
   "outputs": [
    {
     "name": "stdout",
     "output_type": "stream",
     "text": [
      "value1的值平均 7\n",
      "value1的標準差 5.9442\n",
      "===============================\n",
      "value2的值平均 7\n",
      "value2的標準差 1.8257\n"
     ]
    }
   ],
   "source": [
    "from statistics import *\n",
    "\n",
    "values1 = [0, 5, 9, 14]\n",
    "values2 = [5, 6, 8, 9]\n",
    "\n",
    "avarage1 = mean(values1)\n",
    "avarage2 = mean(values2)\n",
    "\n",
    "std1 = stdev(values1)\n",
    "std2 = stdev(values2)\n",
    "\n",
    "print(f\"value1的值平均 {avarage1}\")\n",
    "print(f\"value1的標準差 {round(std1, 4)}\")\n",
    "print(\"===============================\")\n",
    "print(f\"value2的值平均 {avarage2}\")\n",
    "print(f\"value2的標準差 {round(std2, 4)}\")"
   ]
  }
 ],
 "metadata": {
  "kernelspec": {
   "display_name": "Python 3",
   "language": "python",
   "name": "python3"
  },
  "language_info": {
   "codemirror_mode": {
    "name": "ipython",
    "version": 3
   },
   "file_extension": ".py",
   "mimetype": "text/x-python",
   "name": "python",
   "nbconvert_exporter": "python",
   "pygments_lexer": "ipython3",
   "version": "3.10.13"
  }
 },
 "nbformat": 4,
 "nbformat_minor": 2
}
