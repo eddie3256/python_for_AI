{
 "cells": [
  {
   "cell_type": "code",
   "execution_count": 5,
   "metadata": {},
   "outputs": [
    {
     "name": "stdout",
     "output_type": "stream",
     "text": [
      "value1的值平均 7\n",
      "value1的標準差 5.9442\n",
      "===============================\n",
      "value2的值平均 7\n",
      "value2的標準差 1.8257\n"
     ]
    }
   ],
   "source": [
    "from statistics import *\n",
    "\n",
    "values1 = [0, 5, 9, 14]\n",
    "values2 = [5, 6, 8, 9]\n",
    "\n",
    "avarage1 = mean(values1)\n",
    "avarage2 = mean(values2)\n",
    "\n",
    "std1 = stdev(values1)\n",
    "std2 = stdev(values2)\n",
    "\n",
    "print(f\"value1的值平均 {avarage1}\")\n",
    "print(f\"value1的標準差 {round(std1, 4)}\")\n",
    "print(\"===============================\")\n",
    "print(f\"value2的值平均 {avarage2}\")\n",
    "print(f\"value2的標準差 {round(std2, 4)}\")"
   ]
  },
  {
   "cell_type": "code",
   "execution_count": 6,
   "metadata": {},
   "outputs": [
    {
     "name": "stdout",
     "output_type": "stream",
     "text": [
      "15\n"
     ]
    }
   ],
   "source": [
    "n = 10\n",
    "n = n + 5\n",
    "print(n)"
   ]
  },
  {
   "cell_type": "code",
   "execution_count": 7,
   "metadata": {},
   "outputs": [
    {
     "name": "stdout",
     "output_type": "stream",
     "text": [
      "15\n"
     ]
    }
   ],
   "source": [
    "n = 10\n",
    "n += 5\n",
    "print(n)"
   ]
  },
  {
   "cell_type": "code",
   "execution_count": 8,
   "metadata": {},
   "outputs": [
    {
     "name": "stdout",
     "output_type": "stream",
     "text": [
      "50\n"
     ]
    }
   ],
   "source": [
    "n = 10\n",
    "n *= 5\n",
    "print(n)"
   ]
  },
  {
   "cell_type": "code",
   "execution_count": 11,
   "metadata": {},
   "outputs": [
    {
     "name": "stdout",
     "output_type": "stream",
     "text": [
      "2.5 + 5.5 + 8.5 = 16.5\n"
     ]
    }
   ],
   "source": [
    "total = 0\n",
    "value1 = float(input(\"請輸入第1個整數: \"))\n",
    "total += value1\n",
    "\n",
    "value2 = float(input(\"請輸入第2個整數: \"))\n",
    "total += value2\n",
    "\n",
    "value3 = float(input(\"請輸入第3個整數: \"))\n",
    "total += value3\n",
    "\n",
    "print(f\"{value1} + {value2} + {value3} = {round(total, 5)}\")\n"
   ]
  },
  {
   "cell_type": "code",
   "execution_count": 24,
   "metadata": {},
   "outputs": [
    {
     "name": "stdout",
     "output_type": "stream",
     "text": [
      "5.2 + 5.2 + 5.2 = 15.6\n"
     ]
    }
   ],
   "source": [
    "num = list(map(lambda x: float(x), input(\"請輸入3個整數(空格隔開)\").split()))\n",
    "\n",
    "total = 0\n",
    "for i in num:\n",
    "    total += i\n",
    "\n",
    "print(f\"{num[0]} + {num[1]} + {num[2]} = {round(total, 5)}\")"
   ]
  },
  {
   "cell_type": "code",
   "execution_count": 26,
   "metadata": {},
   "outputs": [
    {
     "name": "stdout",
     "output_type": "stream",
     "text": [
      "x + y + z = w\n",
      "1 + 2 + 3 = 4\n"
     ]
    }
   ],
   "source": [
    "x = 1\n",
    "y = 2\n",
    "z = 3\n",
    "w = 4\n",
    "\n",
    "#字串\n",
    "print(\"x + y + z = w\")\n",
    "\n",
    "#字串插補\n",
    "print(f\"{x} + {y} + {z} = {w}\")"
   ]
  }
 ],
 "metadata": {
  "kernelspec": {
   "display_name": "Python 3",
   "language": "python",
   "name": "python3"
  },
  "language_info": {
   "codemirror_mode": {
    "name": "ipython",
    "version": 3
   },
   "file_extension": ".py",
   "mimetype": "text/x-python",
   "name": "python",
   "nbconvert_exporter": "python",
   "pygments_lexer": "ipython3",
   "version": "3.10.14"
  }
 },
 "nbformat": 4,
 "nbformat_minor": 2
}
