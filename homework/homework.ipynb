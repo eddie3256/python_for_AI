{
 "cells": [
  {
   "cell_type": "code",
   "execution_count": 3,
   "metadata": {},
   "outputs": [
    {
     "name": "stdout",
     "output_type": "stream",
     "text": [
      "你的身高是 168.6cm, 體重是 54.5kg, BMI是 19.17262\n"
     ]
    }
   ],
   "source": [
    "height = float(input(\"請輸入身高(cm): \"))\n",
    "weight = float(input(\"請輸入體重(kg): \"))\n",
    "\n",
    "BMI = weight / (height / 100) ** 2\n",
    "\n",
    "print(f\"你的身高是 {height}cm, 體重是 {weight}kg, BMI是 {round(BMI, 5)}\")"
   ]
  },
  {
   "cell_type": "code",
   "execution_count": 2,
   "metadata": {},
   "outputs": [
    {
     "name": "stdout",
     "output_type": "stream",
     "text": [
      "請輸入您的姓名: dz\n",
      "請輸入您的身高(cm): 180\n",
      "請輸入您的體重(kg): 65\n",
      "您的姓名為 dz\n",
      "您的BMI值為 20.061728395061728\n",
      "您屬於 正常 範圍\n"
     ]
    }
   ],
   "source": [
    "import pyinputplus as pypi\n",
    "\n",
    "name = pypi.inputStr(\"請輸入您的姓名: \")\n",
    "print(name)\n",
    "height = pypi.inputInt(\"請輸入您的身高(cm): \", min=50, max=250)\n",
    "print(height)\n",
    "weight = pypi.inputInt(\"請輸入您的體重(kg): \", min=0, max=200)\n",
    "print(weight)\n",
    "\n",
    "BMI = weight / (height / 100) ** 2\n",
    "if BMI < 18.5:\n",
    "    rate = \"過輕\"\n",
    "elif BMI < 24:\n",
    "    rate = \"正常\"\n",
    "elif BMI < 27:\n",
    "    rate = \"過重\"\n",
    "elif BMI < 30:\n",
    "    rate = \"輕度肥胖\"\n",
    "elif BMI < 35:\n",
    "    rate = \"中度肥胖\"\n",
    "else:\n",
    "    rate = \"重度肥胖\"\n",
    "\n",
    "print(f\"您的姓名為 {name}\\n您的BMI值為 {BMI}\\n您屬於 {rate} 範圍\")\n"
   ]
  },
  {
   "cell_type": "code",
   "execution_count": 14,
   "metadata": {},
   "outputs": [
    {
     "name": "stdout",
     "output_type": "stream",
     "text": [
      "請輸入整數求因數: 96\n",
      "96 的因數有: [1, 2, 3, 4, 6, 8, 12, 16, 24, 32, 48, 96]\n",
      "96 不是質數\n"
     ]
    }
   ],
   "source": [
    "import pyinputplus as pypi\n",
    "from math import *\n",
    "\n",
    "n = pypi.inputInt(\"請輸入整數求因數: \")\n",
    "print(n)\n",
    "num = []\n",
    "for i in range(1, n+1):\n",
    "    if n % i == 0:\n",
    "        num.append(i)\n",
    "print(f\"{n} 的因數有: {num}\")\n",
    "\n",
    "for i in range(2, int(sqrt(n))):\n",
    "    if n % i == 0:\n",
    "        print(f\"{n} 不是質數\")\n",
    "        break\n",
    "else:\n",
    "    print(f\"{n} 是質數\")\n"
   ]
  }
 ],
 "metadata": {
  "kernelspec": {
   "display_name": "Python 3",
   "language": "python",
   "name": "python3"
  },
  "language_info": {
   "codemirror_mode": {
    "name": "ipython",
    "version": 3
   },
   "file_extension": ".py",
   "mimetype": "text/x-python",
   "name": "python",
   "nbconvert_exporter": "python",
   "pygments_lexer": "ipython3",
   "version": "3.10.14"
  }
 },
 "nbformat": 4,
 "nbformat_minor": 2
}
