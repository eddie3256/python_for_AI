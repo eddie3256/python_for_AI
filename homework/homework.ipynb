{
 "cells": [
  {
   "cell_type": "code",
   "execution_count": 3,
   "metadata": {},
   "outputs": [
    {
     "name": "stdout",
     "output_type": "stream",
     "text": [
      "你的身高是 168.6cm, 體重是 54.5kg, BMI是 19.17262\n"
     ]
    }
   ],
   "source": [
    "height = float(input(\"請輸入身高(cm): \"))\n",
    "weight = float(input(\"請輸入體重(kg): \"))\n",
    "\n",
    "BMI = weight / (height / 100) ** 2\n",
    "\n",
    "print(f\"你的身高是 {height}cm, 體重是 {weight}kg, BMI是 {round(BMI, 5)}\")"
   ]
  }
 ],
 "metadata": {
  "kernelspec": {
   "display_name": "Python 3",
   "language": "python",
   "name": "python3"
  },
  "language_info": {
   "codemirror_mode": {
    "name": "ipython",
    "version": 3
   },
   "file_extension": ".py",
   "mimetype": "text/x-python",
   "name": "python",
   "nbconvert_exporter": "python",
   "pygments_lexer": "ipython3",
   "version": "3.10.13"
  }
 },
 "nbformat": 4,
 "nbformat_minor": 2
}
