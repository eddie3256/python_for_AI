{
 "cells": [
  {
   "cell_type": "code",
   "execution_count": 3,
   "metadata": {},
   "outputs": [
    {
     "ename": "ValidationError",
     "evalue": "1 validation error for Site\n  Invalid JSON: key must be a string at line 2 column 2 [type=json_invalid, input_value=\"\\n{'aqi': '19',\\n 'co': ... 'windspeed': '0.2'}\\n \", input_type=str]\n    For further information visit https://errors.pydantic.dev/2.7/v/json_invalid",
     "output_type": "error",
     "traceback": [
      "\u001b[0;31m---------------------------------------------------------------------------\u001b[0m",
      "\u001b[0;31mValidationError\u001b[0m                           Traceback (most recent call last)",
      "Cell \u001b[0;32mIn[3], line 43\u001b[0m\n\u001b[1;32m     40\u001b[0m     aqi:\u001b[38;5;28mint\u001b[39m\n\u001b[1;32m     42\u001b[0m \u001b[38;5;66;03m#class method\u001b[39;00m\n\u001b[0;32m---> 43\u001b[0m s1:Site \u001b[38;5;241m=\u001b[39m \u001b[43mSite\u001b[49m\u001b[38;5;241;43m.\u001b[39;49m\u001b[43mmodel_validate_json\u001b[49m\u001b[43m(\u001b[49m\u001b[43mdata_json\u001b[49m\u001b[43m)\u001b[49m\n\u001b[1;32m     44\u001b[0m \u001b[38;5;28mprint\u001b[39m(s1)\n",
      "File \u001b[0;32m~/.local/lib/python3.10/site-packages/pydantic/main.py:580\u001b[0m, in \u001b[0;36mBaseModel.model_validate_json\u001b[0;34m(cls, json_data, strict, context)\u001b[0m\n\u001b[1;32m    578\u001b[0m \u001b[38;5;66;03m# `__tracebackhide__` tells pytest and some other tools to omit this function from tracebacks\u001b[39;00m\n\u001b[1;32m    579\u001b[0m __tracebackhide__ \u001b[38;5;241m=\u001b[39m \u001b[38;5;28;01mTrue\u001b[39;00m\n\u001b[0;32m--> 580\u001b[0m \u001b[38;5;28;01mreturn\u001b[39;00m \u001b[38;5;28;43mcls\u001b[39;49m\u001b[38;5;241;43m.\u001b[39;49m\u001b[43m__pydantic_validator__\u001b[49m\u001b[38;5;241;43m.\u001b[39;49m\u001b[43mvalidate_json\u001b[49m\u001b[43m(\u001b[49m\u001b[43mjson_data\u001b[49m\u001b[43m,\u001b[49m\u001b[43m \u001b[49m\u001b[43mstrict\u001b[49m\u001b[38;5;241;43m=\u001b[39;49m\u001b[43mstrict\u001b[49m\u001b[43m,\u001b[49m\u001b[43m \u001b[49m\u001b[43mcontext\u001b[49m\u001b[38;5;241;43m=\u001b[39;49m\u001b[43mcontext\u001b[49m\u001b[43m)\u001b[49m\n",
      "\u001b[0;31mValidationError\u001b[0m: 1 validation error for Site\n  Invalid JSON: key must be a string at line 2 column 2 [type=json_invalid, input_value=\"\\n{'aqi': '19',\\n 'co': ... 'windspeed': '0.2'}\\n \", input_type=str]\n    For further information visit https://errors.pydantic.dev/2.7/v/json_invalid"
     ]
    }
   ],
   "source": [
    "data_json:str = '''\n",
    "{'aqi': '19',\n",
    " 'co': '0.14',\n",
    " 'co_8hr': '0.2',\n",
    " 'county': '屏東縣',\n",
    " 'datacreationdate': '2024-06-09 09:00',\n",
    " 'latitude': '22.260899',\n",
    " 'longitude': '120.651472',\n",
    " 'no': '0.4',\n",
    " 'no2': '0.8',\n",
    " 'nox': '1.2',\n",
    " 'o3': '36.2',\n",
    " 'o3_8hr': '21.2',\n",
    " 'pm10': '20',\n",
    " 'pm10_avg': '17',\n",
    " 'pm2.5': '5',\n",
    " 'pm2.5_avg': '4.5',\n",
    " 'pollutant': '',\n",
    " 'siteid': '313',\n",
    " 'sitename': '屏東(枋山)',\n",
    " 'so2': '0.3',\n",
    " 'so2_avg': '0',\n",
    " 'status': '良好',\n",
    " 'unit': '',\n",
    " 'winddirec': '287',\n",
    " 'windspeed': '1.4'}\n",
    "...\n",
    " 'status': '良好',\n",
    " 'unit': '',\n",
    " 'winddirec': '59',\n",
    " 'windspeed': '0.2'}\n",
    " '''\n",
    "\n",
    "\n",
    "from pydantic import BaseModel\n",
    "\n",
    "class Site(BaseModel):\n",
    "    sitename:str\n",
    "    county:str\n",
    "    aqi:int\n",
    "\n",
    "#class method\n",
    "s1:Site = Site.model_validate_json(data_json)\n",
    "print(s1)"
   ]
  }
 ],
 "metadata": {
  "kernelspec": {
   "display_name": "Python 3",
   "language": "python",
   "name": "python3"
  },
  "language_info": {
   "codemirror_mode": {
    "name": "ipython",
    "version": 3
   },
   "file_extension": ".py",
   "mimetype": "text/x-python",
   "name": "python",
   "nbconvert_exporter": "python",
   "pygments_lexer": "ipython3",
   "version": "3.10.14"
  }
 },
 "nbformat": 4,
 "nbformat_minor": 2
}
