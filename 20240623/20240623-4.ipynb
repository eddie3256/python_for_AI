{
 "cells": [
  {
   "cell_type": "code",
   "execution_count": 2,
   "metadata": {},
   "outputs": [
    {
     "data": {
      "text/plain": [
       "array([[ 72,  73,  54,  85,  79],\n",
       "       [ 95,  63,  70,  71,  97],\n",
       "       [ 82,  67,  68,  96,  74],\n",
       "       [ 87,  89,  65,  55,  51],\n",
       "       [ 70,  74,  69,  83,  90],\n",
       "       [ 64,  68,  89,  70,  82],\n",
       "       [ 72,  79, 100,  57,  62],\n",
       "       [ 92,  67,  73,  91,  67],\n",
       "       [ 91,  57,  57,  72,  78],\n",
       "       [ 70,  72,  73,  98,  92],\n",
       "       [ 94,  90,  52,  75,  63],\n",
       "       [ 62,  91,  51,  75,  52],\n",
       "       [ 99,  59,  84,  53,  93],\n",
       "       [ 66,  76,  88,  83,  53],\n",
       "       [ 65,  90,  55,  55,  86],\n",
       "       [ 98,  93,  92,  85,  91],\n",
       "       [ 77,  95,  50,  59,  81],\n",
       "       [ 75,  59,  60,  73,  56],\n",
       "       [ 83,  68,  64,  87,  71],\n",
       "       [ 91,  88,  69,  67,  54],\n",
       "       [ 66,  77,  52,  54,  86],\n",
       "       [ 93,  99,  80,  66,  90],\n",
       "       [ 64,  50,  79,  80,  51],\n",
       "       [ 87,  99,  50,  62,  57],\n",
       "       [ 89,  95,  84,  57,  89],\n",
       "       [ 94,  85,  92,  54,  59],\n",
       "       [ 76,  70,  51,  84,  93],\n",
       "       [ 59,  98,  56,  81,  74],\n",
       "       [ 78,  56,  77,  74,  68],\n",
       "       [ 95,  83,  87,  53,  98],\n",
       "       [ 53,  85,  96,  92,  61],\n",
       "       [ 59,  95,  88,  96,  72],\n",
       "       [ 53,  99,  70,  52,  55],\n",
       "       [ 52,  73,  69,  87,  56],\n",
       "       [ 79,  93,  58,  58,  82],\n",
       "       [ 50,  77,  57,  63,  87],\n",
       "       [ 69,  98,  92,  53, 100],\n",
       "       [ 89,  72,  95,  85,  66],\n",
       "       [ 54,  96,  62,  61,  54],\n",
       "       [ 56,  50,  67,  68,  70],\n",
       "       [ 62,  53,  75,  76,  58],\n",
       "       [ 71,  98,  99,  80,  83],\n",
       "       [ 54,  59,  68,  98,  99],\n",
       "       [ 94,  73,  84,  79,  67],\n",
       "       [ 77,  85,  98,  81,  81],\n",
       "       [ 63, 100,  55,  83,  80],\n",
       "       [ 56,  89,  74,  67,  64],\n",
       "       [ 82,  52,  90,  55,  92],\n",
       "       [ 78,  85,  88,  81,  96],\n",
       "       [ 85,  53,  91,  90,  60]])"
      ]
     },
     "execution_count": 2,
     "metadata": {},
     "output_type": "execute_result"
    }
   ],
   "source": [
    "import numpy as np\n",
    "students = np.random.randint(50,101,size=(50,5))\n",
    "students"
   ]
  },
  {
   "cell_type": "code",
   "execution_count": 3,
   "metadata": {},
   "outputs": [
    {
     "data": {
      "text/plain": [
       "array([[ 63, 100,  55,  83,  80],\n",
       "       [ 56,  89,  74,  67,  64],\n",
       "       [ 82,  52,  90,  55,  92],\n",
       "       [ 78,  85,  88,  81,  96],\n",
       "       [ 85,  53,  91,  90,  60]])"
      ]
     },
     "execution_count": 3,
     "metadata": {},
     "output_type": "execute_result"
    }
   ],
   "source": [
    "students[0,0]\n",
    "students[:1,:]\n",
    "students[:1] #前一個學生\n",
    "students[:2] #前2個學生\n",
    "students[-5:] #最後5個學生"
   ]
  },
  {
   "cell_type": "code",
   "execution_count": 4,
   "metadata": {},
   "outputs": [
    {
     "data": {
      "text/plain": [
       "array([ 79,  97,  74,  51,  90,  82,  62,  67,  78,  92,  63,  52,  93,\n",
       "        53,  86,  91,  81,  56,  71,  54,  86,  90,  51,  57,  89,  59,\n",
       "        93,  74,  68,  98,  61,  72,  55,  56,  82,  87, 100,  66,  54,\n",
       "        70,  58,  83,  99,  67,  81,  80,  64,  92,  96,  60])"
      ]
     },
     "execution_count": 4,
     "metadata": {},
     "output_type": "execute_result"
    }
   ],
   "source": [
    "students[:, 0] #第一科所有分數\n",
    "students[:, -1] #最後一科所有分數"
   ]
  },
  {
   "cell_type": "code",
   "execution_count": null,
   "metadata": {},
   "outputs": [],
   "source": [
    "np.sum(students[:1]) #第一位學生總分\n",
    "np.sum(students[:2], axis = 1) #前兩位學生總分\n",
    "np.sum(students, axis = 1) #全班每位學生總分\n",
    "np.sum(students, axis = 0) #全班每一科平均\n",
    "np.median(students, axis = 0) #全班每一科中位數"
   ]
  }
 ],
 "metadata": {
  "kernelspec": {
   "display_name": "Python 3",
   "language": "python",
   "name": "python3"
  },
  "language_info": {
   "codemirror_mode": {
    "name": "ipython",
    "version": 3
   },
   "file_extension": ".py",
   "mimetype": "text/x-python",
   "name": "python",
   "nbconvert_exporter": "python",
   "pygments_lexer": "ipython3",
   "version": "3.10.14"
  }
 },
 "nbformat": 4,
 "nbformat_minor": 2
}
