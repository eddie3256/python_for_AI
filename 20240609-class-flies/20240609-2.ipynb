{
 "cells": [
  {
   "cell_type": "code",
   "execution_count": 5,
   "metadata": {},
   "outputs": [],
   "source": [
    "class Student(object):\n",
    "    def __init__(self, n:str, scores:int):\n",
    "        self.name = n\n",
    "        self.scores = scores\n",
    "\n",
    "    def __repr__(self):\n",
    "        message = \"\"\n",
    "        message += f\"我的姓名是 {self.name}\\n\"\n",
    "        message += f\"我的總分是 {self.scores}\"\n",
    "        return message"
   ]
  },
  {
   "cell_type": "code",
   "execution_count": 6,
   "metadata": {},
   "outputs": [
    {
     "name": "stdout",
     "output_type": "stream",
     "text": [
      "摳呆\n",
      "279\n",
      "我的姓名是 摳呆\n",
      "我的總分是 279\n"
     ]
    }
   ],
   "source": [
    "s1:Student = Student(n=\"摳呆\", scores=279)\n",
    "\n",
    "print(s1.name)\n",
    "print(s1.scores)\n",
    "print(s1)"
   ]
  },
  {
   "cell_type": "code",
   "execution_count": 14,
   "metadata": {},
   "outputs": [],
   "source": [
    "from dataclasses import dataclass\n",
    "\n",
    "@dataclass\n",
    "class Student():\n",
    "    name:str\n",
    "    scores:int = 0"
   ]
  },
  {
   "cell_type": "code",
   "execution_count": 15,
   "metadata": {},
   "outputs": [
    {
     "name": "stdout",
     "output_type": "stream",
     "text": [
      "摳呆\n",
      "279\n",
      "Student(name='摳呆', scores=279)\n"
     ]
    }
   ],
   "source": [
    "#使用dataclass\n",
    "\n",
    "s1:Student = Student(name=\"摳呆\", scores=279)\n",
    "\n",
    "print(s1.name)\n",
    "print(s1.scores)\n",
    "print(s1)"
   ]
  },
  {
   "cell_type": "code",
   "execution_count": 16,
   "metadata": {},
   "outputs": [
    {
     "name": "stdout",
     "output_type": "stream",
     "text": [
      "小摳呆\n",
      "0\n",
      "Student(name='小摳呆', scores=0)\n"
     ]
    }
   ],
   "source": [
    "s2:Student = Student(\"小摳呆\")\n",
    "print(s2.name)\n",
    "print(s2.scores)\n",
    "print(s2)"
   ]
  },
  {
   "cell_type": "code",
   "execution_count": null,
   "metadata": {},
   "outputs": [],
   "source": [
    "#pydentic BaseModel\n",
    "from pydantive import BaseModel\n",
    "\n",
    "@dataclass\n",
    "class Student(BaseModel):\n",
    "    name:str\n",
    "    scores:int = 0"
   ]
  },
  {
   "cell_type": "code",
   "execution_count": 17,
   "metadata": {},
   "outputs": [
    {
     "name": "stdout",
     "output_type": "stream",
     "text": [
      "摳呆\n",
      "279\n",
      "Student(name='摳呆', scores=279)\n"
     ]
    }
   ],
   "source": [
    "s1:Student = Student(name=\"摳呆\", scores=279)\n",
    "\n",
    "print(s1.name)\n",
    "print(s1.scores)\n",
    "print(s1)"
   ]
  },
  {
   "cell_type": "code",
   "execution_count": 18,
   "metadata": {},
   "outputs": [
    {
     "name": "stdout",
     "output_type": "stream",
     "text": [
      "小摳呆\n",
      "0\n",
      "Student(name='小摳呆', scores=0)\n"
     ]
    }
   ],
   "source": [
    "s2:Student = Student(name = \"小摳呆\")\n",
    "print(s2.name)\n",
    "print(s2.scores)\n",
    "print(s2)"
   ]
  },
  {
   "cell_type": "code",
   "execution_count": 20,
   "metadata": {},
   "outputs": [
    {
     "name": "stdout",
     "output_type": "stream",
     "text": [
      "超摳呆\n",
      "279\n",
      "Student(name='超摳呆', scores='279')\n"
     ]
    }
   ],
   "source": [
    "#根據field的資料類型 自動轉換\n",
    "\n",
    "s3:Student = Student(name = \"超摳呆\", scores = \"279\")\n",
    "print(s3.name)\n",
    "print(s3.scores)\n",
    "print(s3)"
   ]
  }
 ],
 "metadata": {
  "kernelspec": {
   "display_name": "Python 3",
   "language": "python",
   "name": "python3"
  },
  "language_info": {
   "codemirror_mode": {
    "name": "ipython",
    "version": 3
   },
   "file_extension": ".py",
   "mimetype": "text/x-python",
   "name": "python",
   "nbconvert_exporter": "python",
   "pygments_lexer": "ipython3",
   "version": "3.10.14"
  }
 },
 "nbformat": 4,
 "nbformat_minor": 2
}
