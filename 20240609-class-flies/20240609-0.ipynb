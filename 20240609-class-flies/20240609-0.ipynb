{
 "cells": [
  {
   "cell_type": "code",
   "execution_count": 4,
   "metadata": {},
   "outputs": [
    {
     "name": "stdout",
     "output_type": "stream",
     "text": [
      "個股日成交資訊共有 1113 筆資料\n",
      "請輸入要隨機顯示的資料數(1~20): #301\n",
      "{ '證券代號': '1710',\n",
      "  '證券名稱': '東聯',\n",
      "  '成交股數': '3,258,219',\n",
      "  '成交金額': '49,671,025',\n",
      "  '開盤價': '15.55',\n",
      "  '最高價': '15.75',\n",
      "  '最低價': '14.75',\n",
      "  '收盤價': '14.80',\n",
      "  '漲跌價差': '-1.00',\n",
      "  '成交筆數': '1,654'}\n"
     ]
    }
   ],
   "source": [
    "import csv\n",
    "import pyinputplus as pyip\n",
    "from pprint import pprint\n",
    "from random import choices\n",
    "\n",
    "def main():\n",
    "\tfname = \"個股日成交資訊.csv\"\n",
    "\twith open(fname, encoding=\"UTF-8\", newline='') as f:\n",
    "\t\treader = csv.DictReader(f)\n",
    "\t\tlst = list(reader)\n",
    "\t\tprint(str.format(\"{}共有 {} 筆資料\", fname.removesuffix(\".csv\"), len(lst)))\n",
    "\t\t# Too much data, just show some to demonstration\n",
    "\t\tn = pyip.inputInt(\"請輸入要隨機顯示的資料數(1~20): \", min=1, max=20)\n",
    "\t\tlst_2 = choices(lst, k=n)\n",
    "\t\tfor d in lst_2:\n",
    "\t\t\t# Get index of complete data\n",
    "\t\t\tidx = lst.index(d)\n",
    "\t\t\tprint(f\"#{idx}\")\n",
    "\t\t\tpprint(d, indent=2, sort_dicts=False)\n",
    "\n",
    "if __name__ == \"__main__\":\n",
    "\tmain()"
   ]
  }
 ],
 "metadata": {
  "kernelspec": {
   "display_name": "Python 3",
   "language": "python",
   "name": "python3"
  },
  "language_info": {
   "codemirror_mode": {
    "name": "ipython",
    "version": 3
   },
   "file_extension": ".py",
   "mimetype": "text/x-python",
   "name": "python",
   "nbconvert_exporter": "python",
   "pygments_lexer": "ipython3",
   "version": "3.10.14"
  }
 },
 "nbformat": 4,
 "nbformat_minor": 2
}
